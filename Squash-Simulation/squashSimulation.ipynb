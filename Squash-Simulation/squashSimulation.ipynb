{
 "cells": [
  {
   "cell_type": "code",
   "execution_count": 2,
   "metadata": {},
   "outputs": [],
   "source": [
    "import random, csv\n",
    "import matplotlib.pyplot as plt"
   ]
  },
  {
   "cell_type": "code",
   "execution_count": 3,
   "metadata": {},
   "outputs": [],
   "source": [
    "def game(ra, rb):\n",
    "    p = ra/(ra+rb) #Probability that A wins a point\n",
    "    #Initialises the variables\n",
    "    raScore = 0\n",
    "    rbScore = 0\n",
    "    gameIncomplete = True\n",
    "    #Has to have a score equal or larger than 11 and a difference of 2 for the game to end\n",
    "    while not ((raScore >= 11 and raScore >= (rbScore + 2)) or (rbScore >= 11 and rbScore >= (raScore + 2))):\n",
    "        r = random.random()\n",
    "        if r < p:\n",
    "            raScore += 1\n",
    "        else:\n",
    "            rbScore += 1\n",
    "    return (raScore, rbScore)"
   ]
  },
  {
   "cell_type": "code",
   "execution_count": 4,
   "metadata": {},
   "outputs": [
    {
     "name": "stdout",
     "output_type": "stream",
     "text": [
      "(11, 5)\n"
     ]
    }
   ],
   "source": [
    "random.seed(57)\n",
    "print(game(70, 30))"
   ]
  },
  {
   "cell_type": "code",
   "execution_count": 5,
   "metadata": {},
   "outputs": [],
   "source": [
    "def winProbability(ra, rb, n):\n",
    "    #Initialises the variables\n",
    "    raWins = 0\n",
    "    rbWins = 0\n",
    "    gamesPlayed = 0\n",
    "    while gamesPlayed < n: #Loops for a set number of games taken as a parameter\n",
    "        result = game(ra, rb)\n",
    "        if result[0] > result[1]:\n",
    "            raWins += 1\n",
    "            gamesPlayed += 1\n",
    "        else:\n",
    "            rbWins += 1\n",
    "            gamesPlayed += 1\n",
    "    probability = raWins/n # Calculates the probability\n",
    "    return \"{0:.2f}\".format(probability) #Formats the result to 2 decimal places"
   ]
  },
  {
   "cell_type": "code",
   "execution_count": 6,
   "metadata": {},
   "outputs": [
    {
     "name": "stdout",
     "output_type": "stream",
     "text": [
      "0.98\n"
     ]
    }
   ],
   "source": [
    "print(winProbability(70, 30, 500))"
   ]
  },
  {
   "cell_type": "code",
   "execution_count": 7,
   "metadata": {},
   "outputs": [],
   "source": [
    "def readCSV(file):\n",
    "    #Initialises the variables\n",
    "    abilitysList = []\n",
    "    abilitysReturn = []\n",
    "    #Opens the csv file\n",
    "    with open(file) as csvfile:\n",
    "        rdr = csv.reader(csvfile)\n",
    "        for row in rdr: #Loops through each line\n",
    "            abilitysList.append(row)\n",
    "        abilitysList = abilitysList[1:] #Removes the initial line\n",
    "    for x in abilitysList:\n",
    "        x = x[:-1] #Removes the blank value from the end of the list\n",
    "        abilityTemp = []\n",
    "        for value in x:\n",
    "            abilityTemp.append(int(value))\n",
    "        abilitysReturn.append(tuple(abilityTemp)) #Adds the integer vales as tuples to a list\n",
    "    return abilitysReturn"
   ]
  },
  {
   "cell_type": "code",
   "execution_count": 8,
   "metadata": {},
   "outputs": [
    {
     "name": "stdout",
     "output_type": "stream",
     "text": [
      "[(60, 20), (100, 55), (50, 40), (20, 70), (95, 85)]\n"
     ]
    }
   ],
   "source": [
    "print(readCSV('test.csv'))"
   ]
  },
  {
   "cell_type": "code",
   "execution_count": 9,
   "metadata": {},
   "outputs": [],
   "source": [
    "def plotGraph(file):\n",
    "    #Initialises the variables\n",
    "    games = readCSV(file)\n",
    "    resultsY = []\n",
    "    resultsX = []\n",
    "    for game in games:\n",
    "        #Plots the graph/ Retrives the data\n",
    "        resultsY.append(float(winProbability(game[0], game[1], 100)))\n",
    "        resultsX.append(game[0]/game[1])\n",
    "        resultsXSort = sorted(resultsX)\n",
    "        resultsYSort = sorted(resultsY)\n",
    "    #Draws and sets the labels on the graph\n",
    "    plt.plot(resultsXSort, resultsYSort)\n",
    "    plt.ylabel('Probability that player A beats player B')\n",
    "    plt.xlabel(\"Ra/Rb (Player A's ability divided by Player B's ability)\")\n",
    "    plt.show()"
   ]
  },
  {
   "cell_type": "code",
   "execution_count": 10,
   "metadata": {},
   "outputs": [
    {
     "data": {
      "image/png": "[encoded data removed]",
      "text/plain": [
       "<Figure size 432x288 with 1 Axes>"
      ]
     },
     "metadata": {
      "needs_background": "light"
     },
     "output_type": "display_data"
    }
   ],
   "source": [
    "plotGraph('test.csv')"
   ]
  },
  {
   "cell_type": "code",
   "execution_count": null,
   "metadata": {},
   "outputs": [],
   "source": []
  }
 ],
 "metadata": {
  "kernelspec": {
   "display_name": "Python 3",
   "language": "python",
   "name": "python3"
  },
  "language_info": {
   "codemirror_mode": {
    "name": "ipython",
    "version": 3
   },
   "file_extension": ".py",
   "mimetype": "text/x-python",
   "name": "python",
   "nbconvert_exporter": "python",
   "pygments_lexer": "ipython3",
   "version": "3.7.4"
  }
 },
 "nbformat": 4,
 "nbformat_minor": 4
}
